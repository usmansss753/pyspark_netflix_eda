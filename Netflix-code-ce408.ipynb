{
 "cells": [
  {
   "cell_type": "markdown",
   "metadata": {},
   "source": [
    "### Import Libraries"
   ]
  },
  {
   "cell_type": "code",
   "execution_count": 10,
   "metadata": {},
   "outputs": [],
   "source": [
    "from pyspark.sql import SparkSession\n",
    "from pyspark.sql.functions import col, count, desc, avg, max, min\n",
    "import os"
   ]
  },
  {
   "cell_type": "markdown",
   "metadata": {},
   "source": [
    "### Initializing different variables "
   ]
  },
  {
   "cell_type": "code",
   "execution_count": 11,
   "metadata": {},
   "outputs": [],
   "source": [
    "def initialize_spark_session():\n",
    "    \"\"\"\n",
    "    Initialize and return a Spark session.\n",
    "    This will be used for all data processing tasks.\n",
    "    \"\"\"\n",
    "    return SparkSession.builder \\\n",
    "        .appName(\"Netflix Dataset Analysis\") \\\n",
    "        .getOrCreate()\n",
    "\n",
    "def load_dataset(spark, file_path):\n",
    "    \"\"\"\n",
    "    Load a dataset from a CSV file into a Spark DataFrame.\n",
    "\n",
    "    Args:\n",
    "        spark (SparkSession): The active Spark session.\n",
    "        file_path (str): The path to the CSV file containing the dataset.\n",
    "\n",
    "    Returns:\n",
    "        DataFrame: The loaded dataset as a Spark DataFrame.\n",
    "    \"\"\"\n",
    "    return spark.read.csv(file_path, header=True, inferSchema=True)\n",
    "\n",
    "def exploratory_data_analysis(df):\n",
    "    \"\"\"\n",
    "    Perform Exploratory Data Analysis (EDA) on the provided dataset.\n",
    "\n",
    "    Args:\n",
    "        df (DataFrame): The dataset to analyze.\n",
    "    \"\"\"\n",
    "    # Display the schema of the dataset\n",
    "    print(\"1. Dataset Schema:\")\n",
    "    df.printSchema()\n",
    "\n",
    "    # Display the total number of records in the dataset\n",
    "    print(f\"\\n2. Total Number of Records: {df.count()}\")\n",
    "\n",
    "    # Identify the most common genres\n",
    "    print(\"\\n3. Top Genres by Content Count:\")\n",
    "    top_genres = df.groupBy(\"listed_in\") \\\n",
    "        .agg(count(\"*\").alias(\"content_count\")) \\\n",
    "        .orderBy(col(\"content_count\").desc()) \\\n",
    "        .limit(10)\n",
    "    top_genres.show(truncate=False)\n",
    "\n",
    "    # Identify directors with the highest number of titles\n",
    "    print(\"\\n4. Directors with the Most Titles:\")\n",
    "    popular_directors = df.groupBy(\"director\") \\\n",
    "        .agg(count(\"*\").alias(\"title_count\")) \\\n",
    "        .orderBy(col(\"title_count\").desc()) \\\n",
    "        .limit(10)\n",
    "    popular_directors.show()\n",
    "\n",
    "    # List the titles with the longest durations (movies or TV shows)\n",
    "    print(\"\\n5. Titles with the Longest Durations:\")\n",
    "    longest_titles = df.filter(col(\"duration\").isNotNull()) \\\n",
    "        .select(\"title\", \"duration\", \"type\") \\\n",
    "        .orderBy(desc(\"duration\")) \\\n",
    "        .limit(10)\n",
    "    longest_titles.show()\n",
    "\n",
    "    # Calculate the average release year for each content type\n",
    "    print(\"\\n6. Average Release Year by Content Type:\")\n",
    "    avg_release_year = df.groupBy(\"type\") \\\n",
    "        .agg(avg(\"release_year\").alias(\"average_release_year\")) \\\n",
    "        .orderBy(\"type\")\n",
    "    avg_release_year.show()\n"
   ]
  },
  {
   "cell_type": "markdown",
   "metadata": {},
   "source": [
    "### Initialize spark session"
   ]
  },
  {
   "cell_type": "code",
   "execution_count": 12,
   "metadata": {},
   "outputs": [],
   "source": [
    "spark = create_spark_session()"
   ]
  },
  {
   "cell_type": "code",
   "execution_count": 13,
   "metadata": {},
   "outputs": [
    {
     "name": "stdout",
     "output_type": "stream",
     "text": [
      "1. Basic Dataset Information:\n",
      "root\n",
      " |-- show_id: string (nullable = true)\n",
      " |-- type: string (nullable = true)\n",
      " |-- title: string (nullable = true)\n",
      " |-- director: string (nullable = true)\n",
      " |-- cast: string (nullable = true)\n",
      " |-- country: string (nullable = true)\n",
      " |-- date_added: string (nullable = true)\n",
      " |-- release_year: string (nullable = true)\n",
      " |-- rating: string (nullable = true)\n",
      " |-- duration: string (nullable = true)\n",
      " |-- listed_in: string (nullable = true)\n",
      " |-- description: string (nullable = true)\n",
      "\n",
      "\n",
      "Total number of records: 8809\n",
      "\n",
      "2. Most Frequent Genres:\n",
      "+------------------------------------------------+-------------+\n",
      "|listed_in                                       |content_count|\n",
      "+------------------------------------------------+-------------+\n",
      "|Dramas, International Movies                    |361          |\n",
      "|Documentaries                                   |358          |\n",
      "|Stand-Up Comedy                                 |334          |\n",
      "|Comedies, Dramas, International Movies          |273          |\n",
      "|Dramas, Independent Movies, International Movies|252          |\n",
      "|Kids' TV                                        |220          |\n",
      "|Children & Family Movies                        |215          |\n",
      "|Children & Family Movies, Comedies              |201          |\n",
      "|Documentaries, International Movies             |186          |\n",
      "|Dramas, International Movies, Romantic Movies   |180          |\n",
      "+------------------------------------------------+-------------+\n",
      "\n",
      "\n",
      "3. Top Directors with the Most Titles:\n",
      "+--------------------+-----------+\n",
      "|            director|title_count|\n",
      "+--------------------+-----------+\n",
      "|                NULL|       2636|\n",
      "|       Rajiv Chilaka|         19|\n",
      "|Raúl Campos, Jan ...|         18|\n",
      "|        Marcus Raboy|         16|\n",
      "|         Suhas Kadav|         16|\n",
      "|           Jay Karas|         14|\n",
      "| Cathy Garcia-Molina|         13|\n",
      "|     Youssef Chahine|         12|\n",
      "|     Martin Scorsese|         12|\n",
      "|         Jay Chapman|         12|\n",
      "+--------------------+-----------+\n",
      "\n",
      "\n",
      "4. Longest Duration Titles (Movies and TV Shows):\n",
      "+--------------------+--------------------+-------------+\n",
      "|               title|            duration|         type|\n",
      "+--------------------+--------------------+-------------+\n",
      "| Beasts of No Nation|       United States|        Movie|\n",
      "|            Backfire|       United States|        Movie|\n",
      "|Get Him to the Greek|       United States|        Movie|\n",
      "|                NULL|This documentary ...|William Wyler|\n",
      "|To All the Boys: ...|               TV-MA|        Movie|\n",
      "|        An Easy Girl|               TV-MA|        Movie|\n",
      "|What Would Sophia...|               TV-14|        Movie|\n",
      "|       The Challenge|               TV-14|      TV Show|\n",
      "| An Imperfect Murder|                   R|        Movie|\n",
      "|The Whole Nine Yards|              99 min|        Movie|\n",
      "+--------------------+--------------------+-------------+\n",
      "\n",
      "\n",
      "5. Average Release Year by Content Type:\n",
      "+-------------+------------------+\n",
      "|         type|  avg_release_year|\n",
      "+-------------+------------------+\n",
      "|         NULL|              NULL|\n",
      "|        Movie|2013.1326463853452|\n",
      "|      TV Show|2016.6071829405162|\n",
      "|William Wyler|              NULL|\n",
      "+-------------+------------------+\n",
      "\n"
     ]
    }
   ],
   "source": [
    " # Get the current directory\n",
    "dataset_path = 'netflix_titles.csv'  # Use the relative path to your dataset\n",
    "\n",
    "# Load Netflix Dataset\n",
    "netflix_df = load_netflix_dataset(spark, dataset_path)\n",
    "\n",
    "# Perform EDA\n",
    "perform_eda(netflix_df)"
   ]
  },
  {
   "cell_type": "code",
   "execution_count": 14,
   "metadata": {},
   "outputs": [],
   "source": [
    "spark.stop()"
   ]
  },
  {
   "cell_type": "code",
   "execution_count": null,
   "metadata": {},
   "outputs": [],
   "source": []
  }
 ],
 "metadata": {
  "kernelspec": {
   "display_name": "Python 3 (ipykernel)",
   "language": "python",
   "name": "python3"
  },
  "language_info": {
   "codemirror_mode": {
    "name": "ipython",
    "version": 3
   },
   "file_extension": ".py",
   "mimetype": "text/x-python",
   "name": "python",
   "nbconvert_exporter": "python",
   "pygments_lexer": "ipython3",
   "version": "3.11.6"
  }
 },
 "nbformat": 4,
 "nbformat_minor": 4
}
